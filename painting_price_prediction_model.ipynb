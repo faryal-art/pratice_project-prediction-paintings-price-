{
  "nbformat": 4,
  "nbformat_minor": 0,
  "metadata": {
    "colab": {
      "provenance": [],
      "authorship_tag": "ABX9TyNBtSIMqWtccPCautaXZ5s9",
      "include_colab_link": true
    },
    "kernelspec": {
      "name": "python3",
      "display_name": "Python 3"
    },
    "language_info": {
      "name": "python"
    }
  },
  "cells": [
    {
      "cell_type": "markdown",
      "metadata": {
        "id": "view-in-github",
        "colab_type": "text"
      },
      "source": [
        "<a href=\"https://colab.research.google.com/github/faryal-art/pratice_project-prediction-paintings-price-/blob/main/painting_price_prediction_model.ipynb\" target=\"_parent\"><img src=\"https://colab.research.google.com/assets/colab-badge.svg\" alt=\"Open In Colab\"/></a>"
      ]
    },
    {
      "cell_type": "code",
      "execution_count": null,
      "metadata": {
        "id": "zdzCR1CYQ_ge"
      },
      "outputs": [],
      "source": [
        "import pandas as pd\n",
        "import numpy as np\n",
        "import matplotlib.pyplot as plt\n",
        "import seaborn as sns"
      ]
    },
    {
      "cell_type": "code",
      "source": [
        "data = pd.Series([1,2,3,4,], index=[\"a\",\"b\",\"c\",\"d\"])\n",
        "print(data)"
      ],
      "metadata": {
        "colab": {
          "base_uri": "https://localhost:8080/"
        },
        "id": "M2jNWVXVRe-o",
        "outputId": "f1e106a4-5a8a-4af0-dc18-073547a9beb0"
      },
      "execution_count": null,
      "outputs": [
        {
          "output_type": "stream",
          "name": "stdout",
          "text": [
            "a    1\n",
            "b    2\n",
            "c    3\n",
            "d    4\n",
            "dtype: int64\n"
          ]
        }
      ]
    },
    {
      "cell_type": "code",
      "source": [
        "dates = pd.date_range('20250101',periods=5)\n",
        "df=pd.DataFrame( np.random.randn(5,3),columns=['A','B','C'], index=[dates])\n",
        "print(df)"
      ],
      "metadata": {
        "colab": {
          "base_uri": "https://localhost:8080/"
        },
        "id": "Lh903N2oRpBY",
        "outputId": "8903e0c4-7853-487b-e343-3b79b5c4ab53"
      },
      "execution_count": null,
      "outputs": [
        {
          "output_type": "stream",
          "name": "stdout",
          "text": [
            "                   A         B         C\n",
            "2025-01-01  0.518712 -0.206660 -0.783043\n",
            "2025-01-02 -0.025788 -0.265870  0.018869\n",
            "2025-01-03  0.182574 -0.926569 -1.432953\n",
            "2025-01-04  0.782527 -0.584940  0.320501\n",
            "2025-01-05 -0.091457  0.888582  0.604023\n"
          ]
        }
      ]
    },
    {
      "cell_type": "markdown",
      "source": [
        "### experiment  project\n",
        "A model for predicting prices of paintings\n",
        "steps include\n",
        "1. import libraries\n",
        "2. create dataframe (temporary and completely random )\n",
        "3. check its info , check if null values are present or not (preprocessing is not required as the dataset i created is simple and does not require preprocessing )\n",
        "4. we move toward  prediction model\n",
        "    1. in prediction model 1st import required libraries\n",
        "    2. features for  training and testing is splited\n",
        "    3. data is splited for training and testing\n",
        "    4.  model training (model is fitted with training data)\n",
        "    5.  prediction (model predict values/price based on training\n",
        "    6. mean absolute error is calculated to see how far are predictions from actual values\n",
        "    7. r2 score tells the accuracy (in the case of our model accuracy is negative because our dataset is not ideal as we generate it totally ramdomly so it has no pattren and thats why model failed to catch any pattern and failed to predict the price for painting accurately.\n",
        "    8. we create a dataframe that contain 2 columns 1 for actual values of painting (actual price ) and 1 for prediction tht model has made  "
      ],
      "metadata": {
        "id": "nod_rlXWUOFF"
      }
    },
    {
      "cell_type": "markdown",
      "source": [
        "Step 1\n",
        "importing libraries\n"
      ],
      "metadata": {
        "id": "9Pu-WlKWfbPc"
      }
    },
    {
      "cell_type": "code",
      "source": [
        "import pandas as pd\n",
        "import numpy as np\n",
        "import matplotlib.pyplot as plt\n",
        "import seaborn as sns"
      ],
      "metadata": {
        "id": "4E4Z0XXYURTp"
      },
      "execution_count": null,
      "outputs": []
    },
    {
      "cell_type": "markdown",
      "source": [
        "step 2\n",
        "create a dataframe\n"
      ],
      "metadata": {
        "id": "f6NBisarfitZ"
      }
    },
    {
      "cell_type": "code",
      "source": [
        "n=60\n",
        "data =pd.DataFrame({\n",
        "\n",
        "    \"painting id\": np.arange(1,n+1),\n",
        "    \"painting rating\": np.random.randint(1,10,n ),\n",
        "    \"painting year\": pd.date_range(start='1997', periods=n, freq=\"YE\"),\n",
        "    \"height_cm\": np.random.randint(10,200,n),\n",
        "    \"width_cm\": np.random.randint(10,200,n),\n",
        "    \"estimated_price\": np.random.randint(10000,500000,size=n)\n",
        "})\n",
        "display(data.head(10))"
      ],
      "metadata": {
        "colab": {
          "base_uri": "https://localhost:8080/",
          "height": 363
        },
        "id": "ZlstWlc7UnJK",
        "outputId": "488997a8-d2ae-4160-eb62-59c9be2cc591"
      },
      "execution_count": null,
      "outputs": [
        {
          "output_type": "display_data",
          "data": {
            "text/plain": [
              "   painting id  painting rating painting year  height_cm  width_cm  \\\n",
              "0            1                2    1997-12-31        146        99   \n",
              "1            2                1    1998-12-31        127       167   \n",
              "2            3                2    1999-12-31         66        30   \n",
              "3            4                2    2000-12-31         99       196   \n",
              "4            5                1    2001-12-31        136       107   \n",
              "5            6                3    2002-12-31        126        29   \n",
              "6            7                1    2003-12-31        168        14   \n",
              "7            8                6    2004-12-31         39       137   \n",
              "8            9                1    2005-12-31        117        40   \n",
              "9           10                4    2006-12-31         33       103   \n",
              "\n",
              "   estimated_price  \n",
              "0            91167  \n",
              "1            95192  \n",
              "2           244406  \n",
              "3           268655  \n",
              "4           395820  \n",
              "5           225987  \n",
              "6           359852  \n",
              "7           335502  \n",
              "8            63228  \n",
              "9           380455  "
            ],
            "text/html": [
              "\n",
              "  <div id=\"df-6308fd09-020f-483f-b265-e172fcba2aba\" class=\"colab-df-container\">\n",
              "    <div>\n",
              "<style scoped>\n",
              "    .dataframe tbody tr th:only-of-type {\n",
              "        vertical-align: middle;\n",
              "    }\n",
              "\n",
              "    .dataframe tbody tr th {\n",
              "        vertical-align: top;\n",
              "    }\n",
              "\n",
              "    .dataframe thead th {\n",
              "        text-align: right;\n",
              "    }\n",
              "</style>\n",
              "<table border=\"1\" class=\"dataframe\">\n",
              "  <thead>\n",
              "    <tr style=\"text-align: right;\">\n",
              "      <th></th>\n",
              "      <th>painting id</th>\n",
              "      <th>painting rating</th>\n",
              "      <th>painting year</th>\n",
              "      <th>height_cm</th>\n",
              "      <th>width_cm</th>\n",
              "      <th>estimated_price</th>\n",
              "    </tr>\n",
              "  </thead>\n",
              "  <tbody>\n",
              "    <tr>\n",
              "      <th>0</th>\n",
              "      <td>1</td>\n",
              "      <td>2</td>\n",
              "      <td>1997-12-31</td>\n",
              "      <td>146</td>\n",
              "      <td>99</td>\n",
              "      <td>91167</td>\n",
              "    </tr>\n",
              "    <tr>\n",
              "      <th>1</th>\n",
              "      <td>2</td>\n",
              "      <td>1</td>\n",
              "      <td>1998-12-31</td>\n",
              "      <td>127</td>\n",
              "      <td>167</td>\n",
              "      <td>95192</td>\n",
              "    </tr>\n",
              "    <tr>\n",
              "      <th>2</th>\n",
              "      <td>3</td>\n",
              "      <td>2</td>\n",
              "      <td>1999-12-31</td>\n",
              "      <td>66</td>\n",
              "      <td>30</td>\n",
              "      <td>244406</td>\n",
              "    </tr>\n",
              "    <tr>\n",
              "      <th>3</th>\n",
              "      <td>4</td>\n",
              "      <td>2</td>\n",
              "      <td>2000-12-31</td>\n",
              "      <td>99</td>\n",
              "      <td>196</td>\n",
              "      <td>268655</td>\n",
              "    </tr>\n",
              "    <tr>\n",
              "      <th>4</th>\n",
              "      <td>5</td>\n",
              "      <td>1</td>\n",
              "      <td>2001-12-31</td>\n",
              "      <td>136</td>\n",
              "      <td>107</td>\n",
              "      <td>395820</td>\n",
              "    </tr>\n",
              "    <tr>\n",
              "      <th>5</th>\n",
              "      <td>6</td>\n",
              "      <td>3</td>\n",
              "      <td>2002-12-31</td>\n",
              "      <td>126</td>\n",
              "      <td>29</td>\n",
              "      <td>225987</td>\n",
              "    </tr>\n",
              "    <tr>\n",
              "      <th>6</th>\n",
              "      <td>7</td>\n",
              "      <td>1</td>\n",
              "      <td>2003-12-31</td>\n",
              "      <td>168</td>\n",
              "      <td>14</td>\n",
              "      <td>359852</td>\n",
              "    </tr>\n",
              "    <tr>\n",
              "      <th>7</th>\n",
              "      <td>8</td>\n",
              "      <td>6</td>\n",
              "      <td>2004-12-31</td>\n",
              "      <td>39</td>\n",
              "      <td>137</td>\n",
              "      <td>335502</td>\n",
              "    </tr>\n",
              "    <tr>\n",
              "      <th>8</th>\n",
              "      <td>9</td>\n",
              "      <td>1</td>\n",
              "      <td>2005-12-31</td>\n",
              "      <td>117</td>\n",
              "      <td>40</td>\n",
              "      <td>63228</td>\n",
              "    </tr>\n",
              "    <tr>\n",
              "      <th>9</th>\n",
              "      <td>10</td>\n",
              "      <td>4</td>\n",
              "      <td>2006-12-31</td>\n",
              "      <td>33</td>\n",
              "      <td>103</td>\n",
              "      <td>380455</td>\n",
              "    </tr>\n",
              "  </tbody>\n",
              "</table>\n",
              "</div>\n",
              "    <div class=\"colab-df-buttons\">\n",
              "\n",
              "  <div class=\"colab-df-container\">\n",
              "    <button class=\"colab-df-convert\" onclick=\"convertToInteractive('df-6308fd09-020f-483f-b265-e172fcba2aba')\"\n",
              "            title=\"Convert this dataframe to an interactive table.\"\n",
              "            style=\"display:none;\">\n",
              "\n",
              "  <svg xmlns=\"http://www.w3.org/2000/svg\" height=\"24px\" viewBox=\"0 -960 960 960\">\n",
              "    <path d=\"M120-120v-720h720v720H120Zm60-500h600v-160H180v160Zm220 220h160v-160H400v160Zm0 220h160v-160H400v160ZM180-400h160v-160H180v160Zm440 0h160v-160H620v160ZM180-180h160v-160H180v160Zm440 0h160v-160H620v160Z\"/>\n",
              "  </svg>\n",
              "    </button>\n",
              "\n",
              "  <style>\n",
              "    .colab-df-container {\n",
              "      display:flex;\n",
              "      gap: 12px;\n",
              "    }\n",
              "\n",
              "    .colab-df-convert {\n",
              "      background-color: #E8F0FE;\n",
              "      border: none;\n",
              "      border-radius: 50%;\n",
              "      cursor: pointer;\n",
              "      display: none;\n",
              "      fill: #1967D2;\n",
              "      height: 32px;\n",
              "      padding: 0 0 0 0;\n",
              "      width: 32px;\n",
              "    }\n",
              "\n",
              "    .colab-df-convert:hover {\n",
              "      background-color: #E2EBFA;\n",
              "      box-shadow: 0px 1px 2px rgba(60, 64, 67, 0.3), 0px 1px 3px 1px rgba(60, 64, 67, 0.15);\n",
              "      fill: #174EA6;\n",
              "    }\n",
              "\n",
              "    .colab-df-buttons div {\n",
              "      margin-bottom: 4px;\n",
              "    }\n",
              "\n",
              "    [theme=dark] .colab-df-convert {\n",
              "      background-color: #3B4455;\n",
              "      fill: #D2E3FC;\n",
              "    }\n",
              "\n",
              "    [theme=dark] .colab-df-convert:hover {\n",
              "      background-color: #434B5C;\n",
              "      box-shadow: 0px 1px 3px 1px rgba(0, 0, 0, 0.15);\n",
              "      filter: drop-shadow(0px 1px 2px rgba(0, 0, 0, 0.3));\n",
              "      fill: #FFFFFF;\n",
              "    }\n",
              "  </style>\n",
              "\n",
              "    <script>\n",
              "      const buttonEl =\n",
              "        document.querySelector('#df-6308fd09-020f-483f-b265-e172fcba2aba button.colab-df-convert');\n",
              "      buttonEl.style.display =\n",
              "        google.colab.kernel.accessAllowed ? 'block' : 'none';\n",
              "\n",
              "      async function convertToInteractive(key) {\n",
              "        const element = document.querySelector('#df-6308fd09-020f-483f-b265-e172fcba2aba');\n",
              "        const dataTable =\n",
              "          await google.colab.kernel.invokeFunction('convertToInteractive',\n",
              "                                                    [key], {});\n",
              "        if (!dataTable) return;\n",
              "\n",
              "        const docLinkHtml = 'Like what you see? Visit the ' +\n",
              "          '<a target=\"_blank\" href=https://colab.research.google.com/notebooks/data_table.ipynb>data table notebook</a>'\n",
              "          + ' to learn more about interactive tables.';\n",
              "        element.innerHTML = '';\n",
              "        dataTable['output_type'] = 'display_data';\n",
              "        await google.colab.output.renderOutput(dataTable, element);\n",
              "        const docLink = document.createElement('div');\n",
              "        docLink.innerHTML = docLinkHtml;\n",
              "        element.appendChild(docLink);\n",
              "      }\n",
              "    </script>\n",
              "  </div>\n",
              "\n",
              "\n",
              "    <div id=\"df-2464fb8a-782e-4c45-902d-d55cb2761e14\">\n",
              "      <button class=\"colab-df-quickchart\" onclick=\"quickchart('df-2464fb8a-782e-4c45-902d-d55cb2761e14')\"\n",
              "                title=\"Suggest charts\"\n",
              "                style=\"display:none;\">\n",
              "\n",
              "<svg xmlns=\"http://www.w3.org/2000/svg\" height=\"24px\"viewBox=\"0 0 24 24\"\n",
              "     width=\"24px\">\n",
              "    <g>\n",
              "        <path d=\"M19 3H5c-1.1 0-2 .9-2 2v14c0 1.1.9 2 2 2h14c1.1 0 2-.9 2-2V5c0-1.1-.9-2-2-2zM9 17H7v-7h2v7zm4 0h-2V7h2v10zm4 0h-2v-4h2v4z\"/>\n",
              "    </g>\n",
              "</svg>\n",
              "      </button>\n",
              "\n",
              "<style>\n",
              "  .colab-df-quickchart {\n",
              "      --bg-color: #E8F0FE;\n",
              "      --fill-color: #1967D2;\n",
              "      --hover-bg-color: #E2EBFA;\n",
              "      --hover-fill-color: #174EA6;\n",
              "      --disabled-fill-color: #AAA;\n",
              "      --disabled-bg-color: #DDD;\n",
              "  }\n",
              "\n",
              "  [theme=dark] .colab-df-quickchart {\n",
              "      --bg-color: #3B4455;\n",
              "      --fill-color: #D2E3FC;\n",
              "      --hover-bg-color: #434B5C;\n",
              "      --hover-fill-color: #FFFFFF;\n",
              "      --disabled-bg-color: #3B4455;\n",
              "      --disabled-fill-color: #666;\n",
              "  }\n",
              "\n",
              "  .colab-df-quickchart {\n",
              "    background-color: var(--bg-color);\n",
              "    border: none;\n",
              "    border-radius: 50%;\n",
              "    cursor: pointer;\n",
              "    display: none;\n",
              "    fill: var(--fill-color);\n",
              "    height: 32px;\n",
              "    padding: 0;\n",
              "    width: 32px;\n",
              "  }\n",
              "\n",
              "  .colab-df-quickchart:hover {\n",
              "    background-color: var(--hover-bg-color);\n",
              "    box-shadow: 0 1px 2px rgba(60, 64, 67, 0.3), 0 1px 3px 1px rgba(60, 64, 67, 0.15);\n",
              "    fill: var(--button-hover-fill-color);\n",
              "  }\n",
              "\n",
              "  .colab-df-quickchart-complete:disabled,\n",
              "  .colab-df-quickchart-complete:disabled:hover {\n",
              "    background-color: var(--disabled-bg-color);\n",
              "    fill: var(--disabled-fill-color);\n",
              "    box-shadow: none;\n",
              "  }\n",
              "\n",
              "  .colab-df-spinner {\n",
              "    border: 2px solid var(--fill-color);\n",
              "    border-color: transparent;\n",
              "    border-bottom-color: var(--fill-color);\n",
              "    animation:\n",
              "      spin 1s steps(1) infinite;\n",
              "  }\n",
              "\n",
              "  @keyframes spin {\n",
              "    0% {\n",
              "      border-color: transparent;\n",
              "      border-bottom-color: var(--fill-color);\n",
              "      border-left-color: var(--fill-color);\n",
              "    }\n",
              "    20% {\n",
              "      border-color: transparent;\n",
              "      border-left-color: var(--fill-color);\n",
              "      border-top-color: var(--fill-color);\n",
              "    }\n",
              "    30% {\n",
              "      border-color: transparent;\n",
              "      border-left-color: var(--fill-color);\n",
              "      border-top-color: var(--fill-color);\n",
              "      border-right-color: var(--fill-color);\n",
              "    }\n",
              "    40% {\n",
              "      border-color: transparent;\n",
              "      border-right-color: var(--fill-color);\n",
              "      border-top-color: var(--fill-color);\n",
              "    }\n",
              "    60% {\n",
              "      border-color: transparent;\n",
              "      border-right-color: var(--fill-color);\n",
              "    }\n",
              "    80% {\n",
              "      border-color: transparent;\n",
              "      border-right-color: var(--fill-color);\n",
              "      border-bottom-color: var(--fill-color);\n",
              "    }\n",
              "    90% {\n",
              "      border-color: transparent;\n",
              "      border-bottom-color: var(--fill-color);\n",
              "    }\n",
              "  }\n",
              "</style>\n",
              "\n",
              "      <script>\n",
              "        async function quickchart(key) {\n",
              "          const quickchartButtonEl =\n",
              "            document.querySelector('#' + key + ' button');\n",
              "          quickchartButtonEl.disabled = true;  // To prevent multiple clicks.\n",
              "          quickchartButtonEl.classList.add('colab-df-spinner');\n",
              "          try {\n",
              "            const charts = await google.colab.kernel.invokeFunction(\n",
              "                'suggestCharts', [key], {});\n",
              "          } catch (error) {\n",
              "            console.error('Error during call to suggestCharts:', error);\n",
              "          }\n",
              "          quickchartButtonEl.classList.remove('colab-df-spinner');\n",
              "          quickchartButtonEl.classList.add('colab-df-quickchart-complete');\n",
              "        }\n",
              "        (() => {\n",
              "          let quickchartButtonEl =\n",
              "            document.querySelector('#df-2464fb8a-782e-4c45-902d-d55cb2761e14 button');\n",
              "          quickchartButtonEl.style.display =\n",
              "            google.colab.kernel.accessAllowed ? 'block' : 'none';\n",
              "        })();\n",
              "      </script>\n",
              "    </div>\n",
              "\n",
              "    </div>\n",
              "  </div>\n"
            ],
            "application/vnd.google.colaboratory.intrinsic+json": {
              "type": "dataframe",
              "summary": "{\n  \"name\": \"display(data\",\n  \"rows\": 10,\n  \"fields\": [\n    {\n      \"column\": \"painting id\",\n      \"properties\": {\n        \"dtype\": \"number\",\n        \"std\": 3,\n        \"min\": 1,\n        \"max\": 10,\n        \"num_unique_values\": 10,\n        \"samples\": [\n          9,\n          2,\n          6\n        ],\n        \"semantic_type\": \"\",\n        \"description\": \"\"\n      }\n    },\n    {\n      \"column\": \"painting rating\",\n      \"properties\": {\n        \"dtype\": \"number\",\n        \"std\": 1,\n        \"min\": 1,\n        \"max\": 6,\n        \"num_unique_values\": 5,\n        \"samples\": [\n          1,\n          4,\n          3\n        ],\n        \"semantic_type\": \"\",\n        \"description\": \"\"\n      }\n    },\n    {\n      \"column\": \"painting year\",\n      \"properties\": {\n        \"dtype\": \"date\",\n        \"min\": \"1997-12-31 00:00:00\",\n        \"max\": \"2006-12-31 00:00:00\",\n        \"num_unique_values\": 10,\n        \"samples\": [\n          \"2005-12-31 00:00:00\",\n          \"1998-12-31 00:00:00\",\n          \"2002-12-31 00:00:00\"\n        ],\n        \"semantic_type\": \"\",\n        \"description\": \"\"\n      }\n    },\n    {\n      \"column\": \"height_cm\",\n      \"properties\": {\n        \"dtype\": \"number\",\n        \"std\": 45,\n        \"min\": 33,\n        \"max\": 168,\n        \"num_unique_values\": 10,\n        \"samples\": [\n          117,\n          127,\n          126\n        ],\n        \"semantic_type\": \"\",\n        \"description\": \"\"\n      }\n    },\n    {\n      \"column\": \"width_cm\",\n      \"properties\": {\n        \"dtype\": \"number\",\n        \"std\": 62,\n        \"min\": 14,\n        \"max\": 196,\n        \"num_unique_values\": 10,\n        \"samples\": [\n          40,\n          167,\n          29\n        ],\n        \"semantic_type\": \"\",\n        \"description\": \"\"\n      }\n    },\n    {\n      \"column\": \"estimated_price\",\n      \"properties\": {\n        \"dtype\": \"number\",\n        \"std\": 125846,\n        \"min\": 63228,\n        \"max\": 395820,\n        \"num_unique_values\": 10,\n        \"samples\": [\n          63228,\n          95192,\n          225987\n        ],\n        \"semantic_type\": \"\",\n        \"description\": \"\"\n      }\n    }\n  ]\n}"
            }
          },
          "metadata": {}
        }
      ]
    },
    {
      "cell_type": "markdown",
      "source": [
        "info about dataset"
      ],
      "metadata": {
        "id": "t0qd6cNNfrRu"
      }
    },
    {
      "cell_type": "markdown",
      "source": [
        "step 3\n",
        "checking information about data"
      ],
      "metadata": {
        "id": "4vo1GIk7gFac"
      }
    },
    {
      "cell_type": "code",
      "source": [
        "data.info()"
      ],
      "metadata": {
        "colab": {
          "base_uri": "https://localhost:8080/"
        },
        "id": "EuJTfpqje6ST",
        "outputId": "d730bd85-0de8-49ab-b36e-299223ad8e86"
      },
      "execution_count": null,
      "outputs": [
        {
          "output_type": "stream",
          "name": "stdout",
          "text": [
            "<class 'pandas.core.frame.DataFrame'>\n",
            "RangeIndex: 60 entries, 0 to 59\n",
            "Data columns (total 6 columns):\n",
            " #   Column           Non-Null Count  Dtype         \n",
            "---  ------           --------------  -----         \n",
            " 0   painting id      60 non-null     int64         \n",
            " 1   painting rating  60 non-null     int64         \n",
            " 2   painting year    60 non-null     datetime64[ns]\n",
            " 3   height_cm        60 non-null     int64         \n",
            " 4   width_cm         60 non-null     int64         \n",
            " 5   estimated_price  60 non-null     int64         \n",
            "dtypes: datetime64[ns](1), int64(5)\n",
            "memory usage: 2.9 KB\n"
          ]
        }
      ]
    },
    {
      "cell_type": "markdown",
      "source": [
        "step 4 : checking for null values"
      ],
      "metadata": {
        "id": "-YxpvatGgSwk"
      }
    },
    {
      "cell_type": "code",
      "source": [
        "data.isnull().sum()"
      ],
      "metadata": {
        "colab": {
          "base_uri": "https://localhost:8080/",
          "height": 272
        },
        "id": "83AAFs2VgZq6",
        "outputId": "3b9e54d4-a7b8-4482-c132-5f3cfa580582"
      },
      "execution_count": null,
      "outputs": [
        {
          "output_type": "execute_result",
          "data": {
            "text/plain": [
              "painting id        0\n",
              "painting rating    0\n",
              "painting year      0\n",
              "height_cm          0\n",
              "width_cm           0\n",
              "estimated_price    0\n",
              "dtype: int64"
            ],
            "text/html": [
              "<div>\n",
              "<style scoped>\n",
              "    .dataframe tbody tr th:only-of-type {\n",
              "        vertical-align: middle;\n",
              "    }\n",
              "\n",
              "    .dataframe tbody tr th {\n",
              "        vertical-align: top;\n",
              "    }\n",
              "\n",
              "    .dataframe thead th {\n",
              "        text-align: right;\n",
              "    }\n",
              "</style>\n",
              "<table border=\"1\" class=\"dataframe\">\n",
              "  <thead>\n",
              "    <tr style=\"text-align: right;\">\n",
              "      <th></th>\n",
              "      <th>0</th>\n",
              "    </tr>\n",
              "  </thead>\n",
              "  <tbody>\n",
              "    <tr>\n",
              "      <th>painting id</th>\n",
              "      <td>0</td>\n",
              "    </tr>\n",
              "    <tr>\n",
              "      <th>painting rating</th>\n",
              "      <td>0</td>\n",
              "    </tr>\n",
              "    <tr>\n",
              "      <th>painting year</th>\n",
              "      <td>0</td>\n",
              "    </tr>\n",
              "    <tr>\n",
              "      <th>height_cm</th>\n",
              "      <td>0</td>\n",
              "    </tr>\n",
              "    <tr>\n",
              "      <th>width_cm</th>\n",
              "      <td>0</td>\n",
              "    </tr>\n",
              "    <tr>\n",
              "      <th>estimated_price</th>\n",
              "      <td>0</td>\n",
              "    </tr>\n",
              "  </tbody>\n",
              "</table>\n",
              "</div><br><label><b>dtype:</b> int64</label>"
            ]
          },
          "metadata": {},
          "execution_count": 58
        }
      ]
    },
    {
      "cell_type": "markdown",
      "source": [
        "step 5:\n",
        "now work on  prediction model  \n"
      ],
      "metadata": {
        "id": "_6QIK1rNiYv8"
      }
    },
    {
      "cell_type": "code",
      "source": [
        "from sklearn.model_selection import train_test_split\n",
        "from sklearn.linear_model import LinearRegression\n",
        "from sklearn.metrics import mean_absolute_error\n",
        "from sklearn.metrics import r2_score"
      ],
      "metadata": {
        "id": "tjK0R1PZipTB"
      },
      "execution_count": null,
      "outputs": []
    },
    {
      "cell_type": "code",
      "source": [
        "#setting features and target\n",
        "x=data[['painting rating','height_cm','width_cm']]\n",
        "y=data[['estimated_price']]\n",
        "#split data for training and testing\n",
        "x_train,x_test,y_train,y_test=train_test_split(x,y,test_size=0.2,random_state=42)\n",
        "#model training\n",
        "model= LinearRegression()\n",
        "model.fit(x_train,y_train)\n",
        "#prediction\n",
        "predictions= model.predict(x_test)\n",
        "\n"
      ],
      "metadata": {
        "id": "t_eSzaytjJDb"
      },
      "execution_count": null,
      "outputs": []
    },
    {
      "cell_type": "code",
      "source": [
        "#mean absolute error tell the diff between actual and predicted value\n",
        "mae=mean_absolute_error(y_test,predictions)\n",
        "r2 = r2_score(y_test, predictions)\n",
        "print(\" Mean Absolute Error:\", round(mae, 2))\n",
        "print(\" R² Score (Accuracy):\", round(r2, 4))\n"
      ],
      "metadata": {
        "colab": {
          "base_uri": "https://localhost:8080/"
        },
        "id": "gP3UkcDJmlDD",
        "outputId": "2a37143a-f977-47e2-e59f-f812ad180423"
      },
      "execution_count": null,
      "outputs": [
        {
          "output_type": "stream",
          "name": "stdout",
          "text": [
            " Mean Absolute Error: 127414.76\n",
            " R² Score (Accuracy): -0.2538\n"
          ]
        }
      ]
    },
    {
      "cell_type": "code",
      "metadata": {
        "id": "c1544fec"
      },
      "source": [
        "print(\"Shape of y_test.values:\", y_test.values.shape)\n",
        "print(\"Shape of predictions:\", predictions.shape)\n",
        "\n",
        "#  Compare actual vs predicted\n",
        "comparison = pd.DataFrame({'Actual Price': y_test.values.flatten(), 'Predicted Price': predictions.flatten().astype(int)})\n",
        "display(comparison.head())"
      ],
      "execution_count": null,
      "outputs": []
    },
    {
      "cell_type": "code",
      "source": [
        "print(\"Shape of y_test.values:\", y_test.values.shape)\n",
        "print(\"Shape of predictions:\", predictions.shape)\n",
        "#  Compare actual vs predicted\n",
        "comparison = pd.DataFrame({'Actual Price': y_test.values.flatten(), 'Predicted Price': predictions.flatten().astype(int)})\n",
        "print(comparison.head())"
      ],
      "metadata": {
        "colab": {
          "base_uri": "https://localhost:8080/"
        },
        "id": "SBOlleVNn1Cl",
        "outputId": "784c6c92-4c37-4440-b239-28952a06af19"
      },
      "execution_count": null,
      "outputs": [
        {
          "output_type": "stream",
          "name": "stdout",
          "text": [
            "Shape of y_test.values: (12, 1)\n",
            "Shape of predictions: (12, 1)\n",
            "   Actual Price  Predicted Price\n",
            "0         91167           294066\n",
            "1        225987           274937\n",
            "2        167364           247157\n",
            "3        474657           240755\n",
            "4        155378           290821\n"
          ]
        }
      ]
    }
  ]
}